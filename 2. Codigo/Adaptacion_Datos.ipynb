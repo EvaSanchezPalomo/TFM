{
 "cells": [
  {
   "cell_type": "markdown",
   "metadata": {},
   "source": [
    "# Carga inicial de datos"
   ]
  },
  {
   "cell_type": "markdown",
   "metadata": {},
   "source": [
    "La carga incial de datos se va a hacer en dos partes, de 2010 a 2018 y por separado la de 2019. Debido a los siguientes motivos:\n",
    "- La estructura de la BBDD entre 2010 y 2018, es la misma. Sin embargo, en 2019 es diferente. Habrá que hacer una serie de modificaciones, para que la info de la BBDD conjunta de todos los años, tenga sentido.\n",
    "- Las BBDD de 2010 a 2018, informaban de accidentes que afectaban al patrimonio y tenían heridos. En 2019 tendremos en cuenta accidentes que afectan al patrimonio, pero que pueden tener o no heridos. Con el fin de homogeneizar análisis de toda la base de datos quitaremos aquellos accidentes que no tengan heridos para 2019"
   ]
  },
  {
   "cell_type": "markdown",
   "metadata": {},
   "source": [
    "Cargamos primeramente las librerias que vamos a necesitar"
   ]
  },
  {
   "cell_type": "code",
   "execution_count": 1,
   "metadata": {},
   "outputs": [],
   "source": [
    "import pandas as pd, os\n",
    "import numpy as np"
   ]
  },
  {
   "cell_type": "markdown",
   "metadata": {},
   "source": [
    "Definimos el path que vamos a utilizar para descargar los datos"
   ]
  },
  {
   "cell_type": "code",
   "execution_count": 2,
   "metadata": {},
   "outputs": [],
   "source": [
    "path = \"1. Raw/\""
   ]
  },
  {
   "cell_type": "markdown",
   "metadata": {},
   "source": [
    "### Carga BBDD de 2010 a 2018\n",
    "Añadimos los DataSets a Python"
   ]
  },
  {
   "cell_type": "code",
   "execution_count": 3,
   "metadata": {},
   "outputs": [],
   "source": [
    "import pandas as pd\n",
    "files_dict = {\"a10\":\"2010_Accidentalidad.csv\",\"a11\":\"2011_Accidentalidad.csv\",\"a12\":\"2012_Accidentalidad.csv\",\n",
    "              \"a13\":\"2013_Accidentalidad.csv\",\"a14\":\"2014_Accidentalidad.csv\",\"a15\":\"2015_Accidentalidad.csv\"\n",
    "             ,\"a16\":\"2016_Accidentalidad.csv\",\"a17\":\"2017_Accidentalidad.csv\",\"a18\":\"2018_Accidentalidad.csv\"}\n",
    "for key, value in files_dict.items():\n",
    "    locals()[key] = pd.read_csv(os.path.join(path, value),sep=\";\",encoding='latin1',skip_blank_lines=False).dropna(axis = 0)\n"
   ]
  },
  {
   "cell_type": "markdown",
   "metadata": {},
   "source": [
    "Vemos que los encabezados sean todos igual y los tipos de datos"
   ]
  },
  {
   "cell_type": "code",
   "execution_count": 4,
   "metadata": {},
   "outputs": [
    {
     "name": "stdout",
     "output_type": "stream",
     "text": [
      "True True True True True True\n"
     ]
    }
   ],
   "source": [
    "a = any(a10.dtypes ==a11.dtypes)\n",
    "b = any(a10.dtypes ==a12.dtypes)\n",
    "c = any(a10.dtypes ==a13.dtypes)\n",
    "d = any(a10.dtypes ==a14.dtypes)\n",
    "e = any(a10.dtypes ==a15.dtypes)\n",
    "f = any(a10.dtypes ==a17.dtypes)\n",
    "print(a,b,c,d,e,f)"
   ]
  },
  {
   "cell_type": "markdown",
   "metadata": {},
   "source": [
    "Vemos que la base de datos de 2016 y 2018 tiene diferente estructura que el resto de data sets."
   ]
  },
  {
   "cell_type": "code",
   "execution_count": 5,
   "metadata": {},
   "outputs": [],
   "source": [
    "#any(a10.dtypes ==a16.dtypes)"
   ]
  },
  {
   "cell_type": "code",
   "execution_count": 6,
   "metadata": {},
   "outputs": [],
   "source": [
    "#any(a10.dtypes ==a18.dtypes)"
   ]
  },
  {
   "cell_type": "markdown",
   "metadata": {},
   "source": [
    "Aunque luego eliminaremos esta variable, porque no nos es util. De momento la renombramos para poder unir todas las BBDD."
   ]
  },
  {
   "cell_type": "code",
   "execution_count": 7,
   "metadata": {},
   "outputs": [],
   "source": [
    "a16 =a16.rename(columns = {'Nº VICTIMAS * ':'Nº VICTIMAS *'})\n",
    "a18 =a18.rename(columns = {'* Nº VICTIMAS':'Nº VICTIMAS *'})"
   ]
  },
  {
   "cell_type": "code",
   "execution_count": 8,
   "metadata": {},
   "outputs": [
    {
     "name": "stdout",
     "output_type": "stream",
     "text": [
      "True True\n"
     ]
    }
   ],
   "source": [
    "g = any(a10.dtypes ==a16.dtypes)\n",
    "h = any(a10.dtypes ==a18.dtypes)\n",
    "print(g,h)"
   ]
  },
  {
   "cell_type": "markdown",
   "metadata": {},
   "source": [
    "Vemos cuantos campos tenemos, para comprobar posteriormente que cuando concatenemos las bases de datos de 2010 a 2018 tienen el mismo numero de filas, en concreto: 252998."
   ]
  },
  {
   "cell_type": "code",
   "execution_count": 9,
   "metadata": {
    "scrolled": true
   },
   "outputs": [
    {
     "name": "stdout",
     "output_type": "stream",
     "text": [
      "252998\n"
     ]
    }
   ],
   "source": [
    "total = 0\n",
    "for i in [a10,a11,a12,a13,a14,a15,a16,a17,a18]:\n",
    "    total = total +(i.shape[-2])\n",
    "print(total)"
   ]
  },
  {
   "cell_type": "markdown",
   "metadata": {},
   "source": [
    "Concatenamos las BBDD de 2010 a 2018"
   ]
  },
  {
   "cell_type": "code",
   "execution_count": 10,
   "metadata": {},
   "outputs": [],
   "source": [
    "dftotal1 = pd.DataFrame()\n",
    "for i in [a10,a11,a12,a13,a14,a15,a16,a17,a18]:\n",
    "    dftotal1 = dftotal1.append(i)"
   ]
  },
  {
   "cell_type": "code",
   "execution_count": 11,
   "metadata": {
    "scrolled": true
   },
   "outputs": [
    {
     "data": {
      "text/html": [
       "<div>\n",
       "<style scoped>\n",
       "    .dataframe tbody tr th:only-of-type {\n",
       "        vertical-align: middle;\n",
       "    }\n",
       "\n",
       "    .dataframe tbody tr th {\n",
       "        vertical-align: top;\n",
       "    }\n",
       "\n",
       "    .dataframe thead th {\n",
       "        text-align: right;\n",
       "    }\n",
       "</style>\n",
       "<table border=\"1\" class=\"dataframe\">\n",
       "  <thead>\n",
       "    <tr style=\"text-align: right;\">\n",
       "      <th></th>\n",
       "      <th>FECHA</th>\n",
       "      <th>RANGO HORARIO</th>\n",
       "      <th>DIA SEMANA</th>\n",
       "      <th>DISTRITO</th>\n",
       "      <th>LUGAR ACCIDENTE</th>\n",
       "      <th>Nº</th>\n",
       "      <th>Nº PARTE</th>\n",
       "      <th>CPFA Granizo</th>\n",
       "      <th>CPFA Hielo</th>\n",
       "      <th>CPFA Lluvia</th>\n",
       "      <th>...</th>\n",
       "      <th>CPSV Grava Suelta</th>\n",
       "      <th>CPSV Hielo</th>\n",
       "      <th>CPSV Seca Y Limpia</th>\n",
       "      <th>Nº VICTIMAS *</th>\n",
       "      <th>TIPO ACCIDENTE</th>\n",
       "      <th>Tipo Vehiculo</th>\n",
       "      <th>TIPO PERSONA</th>\n",
       "      <th>SEXO</th>\n",
       "      <th>LESIVIDAD</th>\n",
       "      <th>Tramo Edad</th>\n",
       "    </tr>\n",
       "  </thead>\n",
       "  <tbody>\n",
       "    <tr>\n",
       "      <td>0</td>\n",
       "      <td>01/01/2010</td>\n",
       "      <td>DE 00:00 A 00:59</td>\n",
       "      <td>VIERNES</td>\n",
       "      <td>CHAMARTIN</td>\n",
       "      <td>CALLE DE CARTAGENA NUM                        ...</td>\n",
       "      <td>104</td>\n",
       "      <td>2010/135</td>\n",
       "      <td>NO</td>\n",
       "      <td>NO</td>\n",
       "      <td>SI</td>\n",
       "      <td>...</td>\n",
       "      <td>NO</td>\n",
       "      <td>NO</td>\n",
       "      <td>NO</td>\n",
       "      <td>1</td>\n",
       "      <td>COLISIÓN DOBLE</td>\n",
       "      <td>TURISMO</td>\n",
       "      <td>CONDUCTOR</td>\n",
       "      <td>HOMBRE</td>\n",
       "      <td>IL</td>\n",
       "      <td>DE 18 A 20 AÑOS</td>\n",
       "    </tr>\n",
       "    <tr>\n",
       "      <td>1</td>\n",
       "      <td>01/01/2010</td>\n",
       "      <td>DE 00:00 A 00:59</td>\n",
       "      <td>VIERNES</td>\n",
       "      <td>CHAMARTIN</td>\n",
       "      <td>CALLE DE CARTAGENA NUM                        ...</td>\n",
       "      <td>104</td>\n",
       "      <td>2010/135</td>\n",
       "      <td>NO</td>\n",
       "      <td>NO</td>\n",
       "      <td>SI</td>\n",
       "      <td>...</td>\n",
       "      <td>NO</td>\n",
       "      <td>NO</td>\n",
       "      <td>NO</td>\n",
       "      <td>1</td>\n",
       "      <td>COLISIÓN DOBLE</td>\n",
       "      <td>TURISMO</td>\n",
       "      <td>CONDUCTOR</td>\n",
       "      <td>HOMBRE</td>\n",
       "      <td>IL</td>\n",
       "      <td>DE 50 A 54 AÑOS</td>\n",
       "    </tr>\n",
       "    <tr>\n",
       "      <td>2</td>\n",
       "      <td>01/01/2010</td>\n",
       "      <td>DE 00:00 A 00:59</td>\n",
       "      <td>VIERNES</td>\n",
       "      <td>CHAMARTIN</td>\n",
       "      <td>CALLE DE CARTAGENA NUM                        ...</td>\n",
       "      <td>104</td>\n",
       "      <td>2010/135</td>\n",
       "      <td>NO</td>\n",
       "      <td>NO</td>\n",
       "      <td>SI</td>\n",
       "      <td>...</td>\n",
       "      <td>NO</td>\n",
       "      <td>NO</td>\n",
       "      <td>NO</td>\n",
       "      <td>1</td>\n",
       "      <td>COLISIÓN DOBLE</td>\n",
       "      <td>TURISMO</td>\n",
       "      <td>VIAJERO</td>\n",
       "      <td>MUJER</td>\n",
       "      <td>HL</td>\n",
       "      <td>DE 40 A 44 AÑOS</td>\n",
       "    </tr>\n",
       "    <tr>\n",
       "      <td>3</td>\n",
       "      <td>01/01/2010</td>\n",
       "      <td>DE 1:00 A 1:59</td>\n",
       "      <td>VIERNES</td>\n",
       "      <td>PUENTE DE VALLECAS</td>\n",
       "      <td>AUTOVIA  M-30 CALZADA 2 KM.                   ...</td>\n",
       "      <td>10200</td>\n",
       "      <td>2010/94</td>\n",
       "      <td>NO</td>\n",
       "      <td>NO</td>\n",
       "      <td>NO</td>\n",
       "      <td>...</td>\n",
       "      <td>NO</td>\n",
       "      <td>NO</td>\n",
       "      <td>NO</td>\n",
       "      <td>7</td>\n",
       "      <td>COLISIÓN MÚLTIPLE</td>\n",
       "      <td>NO ASIGNADO</td>\n",
       "      <td>VIAJERO</td>\n",
       "      <td>MUJER</td>\n",
       "      <td>HL</td>\n",
       "      <td>DE 25 A 29 AÑOS</td>\n",
       "    </tr>\n",
       "    <tr>\n",
       "      <td>4</td>\n",
       "      <td>01/01/2010</td>\n",
       "      <td>DE 1:00 A 1:59</td>\n",
       "      <td>VIERNES</td>\n",
       "      <td>PUENTE DE VALLECAS</td>\n",
       "      <td>AUTOVIA  M-30 CALZADA 2 KM.                   ...</td>\n",
       "      <td>10200</td>\n",
       "      <td>2010/94</td>\n",
       "      <td>NO</td>\n",
       "      <td>NO</td>\n",
       "      <td>NO</td>\n",
       "      <td>...</td>\n",
       "      <td>NO</td>\n",
       "      <td>NO</td>\n",
       "      <td>NO</td>\n",
       "      <td>7</td>\n",
       "      <td>COLISIÓN MÚLTIPLE</td>\n",
       "      <td>NO ASIGNADO</td>\n",
       "      <td>VIAJERO</td>\n",
       "      <td>MUJER</td>\n",
       "      <td>HL</td>\n",
       "      <td>DE 30 A 34 ANOS</td>\n",
       "    </tr>\n",
       "    <tr>\n",
       "      <td>...</td>\n",
       "      <td>...</td>\n",
       "      <td>...</td>\n",
       "      <td>...</td>\n",
       "      <td>...</td>\n",
       "      <td>...</td>\n",
       "      <td>...</td>\n",
       "      <td>...</td>\n",
       "      <td>...</td>\n",
       "      <td>...</td>\n",
       "      <td>...</td>\n",
       "      <td>...</td>\n",
       "      <td>...</td>\n",
       "      <td>...</td>\n",
       "      <td>...</td>\n",
       "      <td>...</td>\n",
       "      <td>...</td>\n",
       "      <td>...</td>\n",
       "      <td>...</td>\n",
       "      <td>...</td>\n",
       "      <td>...</td>\n",
       "      <td>...</td>\n",
       "    </tr>\n",
       "    <tr>\n",
       "      <td>30117</td>\n",
       "      <td>31/12/2018</td>\n",
       "      <td>DE 21:00 A 21:59</td>\n",
       "      <td>LUNES</td>\n",
       "      <td>SALAMANCA</td>\n",
       "      <td>CALLE DE VELAZQUEZ - CALLE DE VILLANUEVA      ...</td>\n",
       "      <td>0</td>\n",
       "      <td>2019/18</td>\n",
       "      <td>NO</td>\n",
       "      <td>NO</td>\n",
       "      <td>NO</td>\n",
       "      <td>...</td>\n",
       "      <td>NO</td>\n",
       "      <td>NO</td>\n",
       "      <td>SI</td>\n",
       "      <td>1</td>\n",
       "      <td>COLISIÓN DOBLE</td>\n",
       "      <td>TURISMO</td>\n",
       "      <td>VIAJERO</td>\n",
       "      <td>HOMBRE</td>\n",
       "      <td>IL</td>\n",
       "      <td>DE 30 A 34 ANOS</td>\n",
       "    </tr>\n",
       "    <tr>\n",
       "      <td>30118</td>\n",
       "      <td>31/12/2018</td>\n",
       "      <td>DE 21:00 A 21:59</td>\n",
       "      <td>LUNES</td>\n",
       "      <td>SALAMANCA</td>\n",
       "      <td>CALLE DE VELAZQUEZ - CALLE DE VILLANUEVA      ...</td>\n",
       "      <td>0</td>\n",
       "      <td>2019/18</td>\n",
       "      <td>NO</td>\n",
       "      <td>NO</td>\n",
       "      <td>NO</td>\n",
       "      <td>...</td>\n",
       "      <td>NO</td>\n",
       "      <td>NO</td>\n",
       "      <td>SI</td>\n",
       "      <td>1</td>\n",
       "      <td>COLISIÓN DOBLE</td>\n",
       "      <td>AUTO-TAXI</td>\n",
       "      <td>CONDUCTOR</td>\n",
       "      <td>HOMBRE</td>\n",
       "      <td>IL</td>\n",
       "      <td>DE 40 A 44 AÑOS</td>\n",
       "    </tr>\n",
       "    <tr>\n",
       "      <td>30119</td>\n",
       "      <td>31/12/2018</td>\n",
       "      <td>DE 23:00 A 23:59</td>\n",
       "      <td>LUNES</td>\n",
       "      <td>HORTALEZA</td>\n",
       "      <td>CALLE DE JOAQUIN FERNANDEZ LEIVA - CALLE DE SI...</td>\n",
       "      <td>0</td>\n",
       "      <td>2019/53</td>\n",
       "      <td>NO</td>\n",
       "      <td>NO</td>\n",
       "      <td>NO</td>\n",
       "      <td>...</td>\n",
       "      <td>NO</td>\n",
       "      <td>NO</td>\n",
       "      <td>SI</td>\n",
       "      <td>1</td>\n",
       "      <td>OTRAS CAUSAS</td>\n",
       "      <td>TURISMO</td>\n",
       "      <td>CONDUCTOR</td>\n",
       "      <td>MUJER</td>\n",
       "      <td>IL</td>\n",
       "      <td>DE 21 A 24 AÑOS</td>\n",
       "    </tr>\n",
       "    <tr>\n",
       "      <td>30120</td>\n",
       "      <td>31/12/2018</td>\n",
       "      <td>DE 23:00 A 23:59</td>\n",
       "      <td>LUNES</td>\n",
       "      <td>HORTALEZA</td>\n",
       "      <td>CALLE DE JOAQUIN FERNANDEZ LEIVA - CALLE DE SI...</td>\n",
       "      <td>0</td>\n",
       "      <td>2019/53</td>\n",
       "      <td>NO</td>\n",
       "      <td>NO</td>\n",
       "      <td>NO</td>\n",
       "      <td>...</td>\n",
       "      <td>NO</td>\n",
       "      <td>NO</td>\n",
       "      <td>SI</td>\n",
       "      <td>1</td>\n",
       "      <td>OTRAS CAUSAS</td>\n",
       "      <td>TURISMO</td>\n",
       "      <td>CONDUCTOR</td>\n",
       "      <td>HOMBRE</td>\n",
       "      <td>HL</td>\n",
       "      <td>DE 50 A 54 AÑOS</td>\n",
       "    </tr>\n",
       "    <tr>\n",
       "      <td>30121</td>\n",
       "      <td>31/12/2018</td>\n",
       "      <td>DE 23:00 A 23:59</td>\n",
       "      <td>LUNES</td>\n",
       "      <td>HORTALEZA</td>\n",
       "      <td>CALLE DE JOAQUIN FERNANDEZ LEIVA - CALLE DE SI...</td>\n",
       "      <td>0</td>\n",
       "      <td>2019/53</td>\n",
       "      <td>NO</td>\n",
       "      <td>NO</td>\n",
       "      <td>NO</td>\n",
       "      <td>...</td>\n",
       "      <td>NO</td>\n",
       "      <td>NO</td>\n",
       "      <td>SI</td>\n",
       "      <td>1</td>\n",
       "      <td>OTRAS CAUSAS</td>\n",
       "      <td>TURISMO</td>\n",
       "      <td>CONDUCTOR</td>\n",
       "      <td>NO ASIGNADO</td>\n",
       "      <td>NO ASIGNADA</td>\n",
       "      <td>DESCONOCIDA</td>\n",
       "    </tr>\n",
       "  </tbody>\n",
       "</table>\n",
       "<p>252998 rows × 26 columns</p>\n",
       "</div>"
      ],
      "text/plain": [
       "            FECHA     RANGO HORARIO DIA SEMANA  \\\n",
       "0      01/01/2010  DE 00:00 A 00:59    VIERNES   \n",
       "1      01/01/2010  DE 00:00 A 00:59    VIERNES   \n",
       "2      01/01/2010  DE 00:00 A 00:59    VIERNES   \n",
       "3      01/01/2010    DE 1:00 A 1:59    VIERNES   \n",
       "4      01/01/2010    DE 1:00 A 1:59    VIERNES   \n",
       "...           ...               ...        ...   \n",
       "30117  31/12/2018  DE 21:00 A 21:59      LUNES   \n",
       "30118  31/12/2018  DE 21:00 A 21:59      LUNES   \n",
       "30119  31/12/2018  DE 23:00 A 23:59      LUNES   \n",
       "30120  31/12/2018  DE 23:00 A 23:59      LUNES   \n",
       "30121  31/12/2018  DE 23:00 A 23:59      LUNES   \n",
       "\n",
       "                             DISTRITO  \\\n",
       "0      CHAMARTIN                        \n",
       "1      CHAMARTIN                        \n",
       "2      CHAMARTIN                        \n",
       "3      PUENTE DE VALLECAS               \n",
       "4      PUENTE DE VALLECAS               \n",
       "...                               ...   \n",
       "30117  SALAMANCA                        \n",
       "30118  SALAMANCA                        \n",
       "30119  HORTALEZA                        \n",
       "30120  HORTALEZA                        \n",
       "30121  HORTALEZA                        \n",
       "\n",
       "                                         LUGAR ACCIDENTE     Nº  Nº PARTE  \\\n",
       "0      CALLE DE CARTAGENA NUM                        ...    104  2010/135   \n",
       "1      CALLE DE CARTAGENA NUM                        ...    104  2010/135   \n",
       "2      CALLE DE CARTAGENA NUM                        ...    104  2010/135   \n",
       "3      AUTOVIA  M-30 CALZADA 2 KM.                   ...  10200   2010/94   \n",
       "4      AUTOVIA  M-30 CALZADA 2 KM.                   ...  10200   2010/94   \n",
       "...                                                  ...    ...       ...   \n",
       "30117  CALLE DE VELAZQUEZ - CALLE DE VILLANUEVA      ...      0   2019/18   \n",
       "30118  CALLE DE VELAZQUEZ - CALLE DE VILLANUEVA      ...      0   2019/18   \n",
       "30119  CALLE DE JOAQUIN FERNANDEZ LEIVA - CALLE DE SI...      0   2019/53   \n",
       "30120  CALLE DE JOAQUIN FERNANDEZ LEIVA - CALLE DE SI...      0   2019/53   \n",
       "30121  CALLE DE JOAQUIN FERNANDEZ LEIVA - CALLE DE SI...      0   2019/53   \n",
       "\n",
       "      CPFA Granizo CPFA Hielo CPFA Lluvia  ... CPSV Grava Suelta CPSV Hielo  \\\n",
       "0               NO         NO          SI  ...                NO         NO   \n",
       "1               NO         NO          SI  ...                NO         NO   \n",
       "2               NO         NO          SI  ...                NO         NO   \n",
       "3               NO         NO          NO  ...                NO         NO   \n",
       "4               NO         NO          NO  ...                NO         NO   \n",
       "...            ...        ...         ...  ...               ...        ...   \n",
       "30117           NO         NO          NO  ...                NO         NO   \n",
       "30118           NO         NO          NO  ...                NO         NO   \n",
       "30119           NO         NO          NO  ...                NO         NO   \n",
       "30120           NO         NO          NO  ...                NO         NO   \n",
       "30121           NO         NO          NO  ...                NO         NO   \n",
       "\n",
       "      CPSV Seca Y Limpia Nº VICTIMAS *  \\\n",
       "0                     NO             1   \n",
       "1                     NO             1   \n",
       "2                     NO             1   \n",
       "3                     NO             7   \n",
       "4                     NO             7   \n",
       "...                  ...           ...   \n",
       "30117                 SI             1   \n",
       "30118                 SI             1   \n",
       "30119                 SI             1   \n",
       "30120                 SI             1   \n",
       "30121                 SI             1   \n",
       "\n",
       "                                 TIPO ACCIDENTE  \\\n",
       "0      COLISIÓN DOBLE                             \n",
       "1      COLISIÓN DOBLE                             \n",
       "2      COLISIÓN DOBLE                             \n",
       "3      COLISIÓN MÚLTIPLE                          \n",
       "4      COLISIÓN MÚLTIPLE                          \n",
       "...                                         ...   \n",
       "30117  COLISIÓN DOBLE                             \n",
       "30118  COLISIÓN DOBLE                             \n",
       "30119  OTRAS CAUSAS                               \n",
       "30120  OTRAS CAUSAS                               \n",
       "30121  OTRAS CAUSAS                               \n",
       "\n",
       "                                  Tipo Vehiculo  \\\n",
       "0      TURISMO                                    \n",
       "1      TURISMO                                    \n",
       "2      TURISMO                                    \n",
       "3                                   NO ASIGNADO   \n",
       "4                                   NO ASIGNADO   \n",
       "...                                         ...   \n",
       "30117  TURISMO                                    \n",
       "30118  AUTO-TAXI                                  \n",
       "30119  TURISMO                                    \n",
       "30120  TURISMO                                    \n",
       "30121  TURISMO                                    \n",
       "\n",
       "                                   TIPO PERSONA         SEXO  \\\n",
       "0                                     CONDUCTOR       HOMBRE   \n",
       "1                                     CONDUCTOR       HOMBRE   \n",
       "2      VIAJERO                                         MUJER   \n",
       "3      VIAJERO                                         MUJER   \n",
       "4      VIAJERO                                         MUJER   \n",
       "...                                         ...          ...   \n",
       "30117  VIAJERO                                        HOMBRE   \n",
       "30118                                 CONDUCTOR       HOMBRE   \n",
       "30119                                 CONDUCTOR        MUJER   \n",
       "30120                                 CONDUCTOR       HOMBRE   \n",
       "30121                                 CONDUCTOR  NO ASIGNADO   \n",
       "\n",
       "                                      LESIVIDAD       Tramo Edad  \n",
       "0      IL                                        DE 18 A 20 AÑOS  \n",
       "1      IL                                        DE 50 A 54 AÑOS  \n",
       "2      HL                                        DE 40 A 44 AÑOS  \n",
       "3      HL                                        DE 25 A 29 AÑOS  \n",
       "4      HL                                        DE 30 A 34 ANOS  \n",
       "...                                         ...              ...  \n",
       "30117  IL                                        DE 30 A 34 ANOS  \n",
       "30118  IL                                        DE 40 A 44 AÑOS  \n",
       "30119  IL                                        DE 21 A 24 AÑOS  \n",
       "30120  HL                                        DE 50 A 54 AÑOS  \n",
       "30121                               NO ASIGNADA      DESCONOCIDA  \n",
       "\n",
       "[252998 rows x 26 columns]"
      ]
     },
     "execution_count": 11,
     "metadata": {},
     "output_type": "execute_result"
    }
   ],
   "source": [
    "dftotal1"
   ]
  },
  {
   "cell_type": "markdown",
   "metadata": {},
   "source": [
    "Vamos a quitar la variable Nº de Victimas, porque no nos es util, al informar la base de datos victima por victima de sus caracteristicas y al poner agrupar cada accidente por NºParte"
   ]
  },
  {
   "cell_type": "code",
   "execution_count": 12,
   "metadata": {},
   "outputs": [],
   "source": [
    "dftotal1 = dftotal1.drop('Nº VICTIMAS *', axis = 1)"
   ]
  },
  {
   "cell_type": "markdown",
   "metadata": {},
   "source": [
    "Normalizacion de los nombre de columnas de este Data Set, de manera que:\n",
    "- Cambiaremos, mayusculas por minusculas menos la primera letra de cada palabra\n",
    "- Nombres de columna con mas de dos palabras, los uniremos con guion bajo\n",
    "\n"
   ]
  },
  {
   "cell_type": "code",
   "execution_count": 13,
   "metadata": {},
   "outputs": [],
   "source": [
    "dftotal1 =dftotal1.rename(columns = {'FECHA':'Fecha','RANGO HORARIO':'Hora', 'DIA SEMANA':'Dia_Semana',\n",
    "                                     'DISTRITO':'Distrito',\n",
    "                                     'LUGAR ACCIDENTE':'Calle','Nº PARTE':'No_Parte',\n",
    "                                     'CPFA Granizo':'CPFA_Granizo','CPFA Hielo':'CPFA_Hielo',\n",
    "                                    'CPFA Lluvia':'CPFA_Lluvia', 'CPFA Niebla':'CPFA_Niebla',\n",
    "                                    'CPFA Seco':'CPFA_Seco','CPFA Nieve':'CPFA_Nieve',\n",
    "                                     'CPSV Mojada': 'CPSV_Mojada','CPSV Aceite':'CPSV_Aceite',\n",
    "                                    'CPSV Barro':'CPSV_Barro','CPSV Grava Suelta': 'CPSV_Grava_Suelta',\n",
    "                                    'CPSV Hielo':'CPSV_Hielo','CPSV Seca Y Limpia':'CPSV_Seca_Y_Limpia',\n",
    "                                    'TIPO ACCIDENTE':'Tipo_Accidente','Tipo Vehiculo':'Tipo_Vehiculo','TIPO PERSONA':'Tipo_Persona',\n",
    "                                     'Tramo Edad':'Tramo_Edad','SEXO':'Sexo','LESIVIDAD':'Lesividad','Nº':'No'})"
   ]
  },
  {
   "cell_type": "markdown",
   "metadata": {
    "scrolled": true
   },
   "source": [
    "Algunos campos de la BBDD tienen campos con espacios, asi que los vamos a quitar"
   ]
  },
  {
   "cell_type": "code",
   "execution_count": 14,
   "metadata": {
    "scrolled": false
   },
   "outputs": [],
   "source": [
    "dftotal1[\"Distrito\"] = dftotal1[\"Distrito\"].str.strip()\n",
    "dftotal1[\"Tipo_Vehiculo\"] = dftotal1[\"Tipo_Vehiculo\"].str.strip()\n",
    "dftotal1[\"Calle\"] = dftotal1[\"Calle\"].str.strip()\n",
    "dftotal1[\"Lesividad\"] = dftotal1[\"Lesividad\"].str.strip()\n",
    "dftotal1[\"Tipo_Persona\"] = dftotal1[\"Tipo_Persona\"].str.strip()\n",
    "dftotal1[\"Tipo_Accidente\"] = dftotal1[\"Tipo_Accidente\"].str.strip(\" \")"
   ]
  },
  {
   "cell_type": "markdown",
   "metadata": {},
   "source": [
    "Normalizaremos los datos de las columnas: \n",
    "- Sexo -> 0 - Hombre, 1- Mujer, 2 - NO ASIGNADO \n",
    "- CPFA y CPSV -> 0 - NO, 1 - SI\n",
    "- Lesividad -> IL - Ileso = 0*, HL - Leve = 1, HG - Grave = 2, M -MT(Muerto) = 3, No Asignada = 4\n",
    "- Rango Horario -> Se adaptar al formato hora.\n",
    "- La variable 'Fecha', la tranformaremos en una variable del tipo DateTime\n",
    "- La variable 'Dia_Semana' dejaremos la primera letra en mayuscula y el resto en minuscula\n",
    "- La variable 'Tipo_Vehiculo' dejaremos la primera letra en mayuscula y el resto en minuscula\n",
    "\n",
    "*Nota: Hemos tenido que asumar que IL es ileso, porque en la descripción de la BBDD no se define"
   ]
  },
  {
   "cell_type": "code",
   "execution_count": 15,
   "metadata": {
    "scrolled": true
   },
   "outputs": [],
   "source": [
    "dftotal1['Sexo'].replace({\"HOMBRE\": 0, \"MUJER\": 1, \"NO ASIGNADO\": 2},inplace=True)\n",
    "dftotal1.replace({\"NO\": 0, \"SI\": 1},inplace=True)\n",
    "dftotal1[\"Lesividad\"].replace({\"IL\": 0,\"HL\": 1,\"HG\":2,\"MT\":3,\"NO ASIGNADA\":4},inplace=True)\n",
    "dftotal1['Hora'].replace({\"DE 00:00 A 00:59\":\"00:30\",\"DE 1:00 A 1:59\":\"1:30\",\"DE 2:00 A 2:59\":\"2:30\",\n",
    "                                  \"DE 3:00 A 3:59\":\"3:30\",\"DE 4:00 A 4:59\":\"4:30\",\"DE 5:00 A 5:59\":\"5:30\",\n",
    "                                  \"DE 6:00 A 6:59\":\"6:30\",\"DE 7:00 A 7:59\":\"7:30\",\"DE 8:00 A 8:59\":\"8:30\",\n",
    "                                  \"DE 9:00 A 9:59\":\"9:30\",\"DE 10:00 A 10:59\":\"10:30\",\"DE 11:00 A 11:59\":\"11:30\",\n",
    "                                  \"DE 12:00 A 12:59\":\"12:30\",\"DE 13:00 A 13:59\":\"13:30\",\"DE 14:00 A 14:59\":\"14:30\",\n",
    "                                  \"DE 15:00 A 15:59\":\"15:30\",\"DE 16:00 A 16:59\":\"16:30\",\"DE 17:00 A 17:59\":\"17:30\",\n",
    "                                  \"DE 18:00 A 18:59\":\"18:30\",\"DE 19:00 A 19:59\":\"19:30\",\"DE 20:00 A 20:59\":\"20:30\",\n",
    "                                  \"DE 21:00 A 21:59\":\"21:30\",\"DE 22:00 A 22:59\":\"22:30\",\"DE 23:00 A 23:59\":\"23:30\"}, inplace =True)\n",
    "dftotal1[\"Dia_Semana\"]=dftotal1[\"Dia_Semana\"].str.capitalize()\n",
    "dftotal1[\"Tipo_Vehiculo\"]=dftotal1[\"Tipo_Vehiculo\"].str.capitalize()"
   ]
  },
  {
   "cell_type": "code",
   "execution_count": 16,
   "metadata": {
    "scrolled": true
   },
   "outputs": [
    {
     "data": {
      "text/plain": [
       "0        Viernes\n",
       "1        Viernes\n",
       "2        Viernes\n",
       "3        Viernes\n",
       "4        Viernes\n",
       "          ...   \n",
       "30117      Lunes\n",
       "30118      Lunes\n",
       "30119      Lunes\n",
       "30120      Lunes\n",
       "30121      Lunes\n",
       "Name: Dia_Semana, Length: 252998, dtype: object"
      ]
     },
     "execution_count": 16,
     "metadata": {},
     "output_type": "execute_result"
    }
   ],
   "source": [
    "dftotal1['Fecha']  = pd.to_datetime(dftotal1['Fecha'])\n",
    "dftotal1['Dia_Semana']"
   ]
  },
  {
   "cell_type": "markdown",
   "metadata": {},
   "source": [
    "### Carga BBDD de 2019\n",
    "Leemos la ultima Base de datos de 2019, que tiene diferente formato a las BBDD de años anteriores"
   ]
  },
  {
   "cell_type": "code",
   "execution_count": 17,
   "metadata": {},
   "outputs": [],
   "source": [
    "a19 = pd.DataFrame(pd.read_csv(os.path.join(path, \"2019\" +\"_Accidentalidad.csv\"),sep=\";\",encoding='latin1'))"
   ]
  },
  {
   "cell_type": "markdown",
   "metadata": {},
   "source": [
    "Se han tenido que realizar una serie de normalizaciones para el nombre de las columnas, para poner unir la BBDD de 2019 al resto de data set de años anteriores."
   ]
  },
  {
   "cell_type": "markdown",
   "metadata": {},
   "source": [
    "Normalizacion de los nombre de columnas de este Data Set, de manera que:\n",
    "- Cambiaremos, mayusculas por minusculas menos la primera letra de cada palabra\n",
    "- Nombres de columna con mas de dos palabras, los uniremos con guion bajo\n",
    "- Quitaremos un comentario en la BBDD"
   ]
  },
  {
   "cell_type": "code",
   "execution_count": 18,
   "metadata": {},
   "outputs": [],
   "source": [
    "a19.rename(columns = {'FECHA':'Fecha','HORA':'Hora','DISTRITO':'Distrito','CALLE':'Calle',\n",
    "                   'NÚMERO':'No','Nº  EXPEDIENTE':'No_Parte','TIPO ACCIDENTE':'Tipo_Accidente',\n",
    "                   'TIPO VEHÍCULO':'Tipo_Vehiculo','TIPO PERSONA':'Tipo_Persona','SEXO':'Sexo',\n",
    "                   'LESIVIDAD*':'Lesividad','RANGO EDAD':'Tramo_Edad',},inplace =True)"
   ]
  },
  {
   "cell_type": "code",
   "execution_count": 19,
   "metadata": {},
   "outputs": [],
   "source": [
    "a19 = a19.drop('* La correspondencia de los códigos se encuentra descrito en la estructura del fichero.', axis = 1)"
   ]
  },
  {
   "cell_type": "markdown",
   "metadata": {},
   "source": [
    "Se van a realizar tambien unas normalizaciones con respecto a los datos:\n",
    "    - Sexo -> 0 - Hombre, 1- Mujer\n",
    "    - Lesividad -> se van a clasificar como en el dataset de años anteriores\n",
    "    - Tipo_Vehiculo -> se van a clasificar como en el dataset de años anteriores. Se ha tenido que hacer una reclasificacion, para los datos de 2019. Esto es debido a que en 2019 los datos estan mas detallados que en el anterior DataSet \n",
    "    - Tipo_Persona -> se van a clasificar como en el dataset de este año\n",
    "    - Tipo_Accidente -> se van a clasificar como en el dataset de este año\n"
   ]
  },
  {
   "cell_type": "markdown",
   "metadata": {},
   "source": [
    "Variable Sexo"
   ]
  },
  {
   "cell_type": "code",
   "execution_count": 20,
   "metadata": {},
   "outputs": [],
   "source": [
    "a19[\"Sexo\"].replace({\"Hombre\": 0, \"Mujer\": 1},inplace=True)\n",
    "a19[\"Sexo\"].fillna(2,inplace = True)\n",
    "a19[\"Sexo\"] = a19[\"Sexo\"].astype(np.int64)"
   ]
  },
  {
   "cell_type": "markdown",
   "metadata": {},
   "source": [
    "Variable Lesividad"
   ]
  },
  {
   "cell_type": "code",
   "execution_count": 21,
   "metadata": {},
   "outputs": [
    {
     "data": {
      "text/plain": [
       "array([1, 0, 2, 3, 4], dtype=int64)"
      ]
     },
     "execution_count": 21,
     "metadata": {},
     "output_type": "execute_result"
    }
   ],
   "source": [
    "a19[\"Lesividad\"].replace({1: 1,2: 1,3: 2,4: 3,5: 1,6: 1,7: 1,14: 0,77: 4},inplace=True)\n",
    "a19[\"Lesividad\"].fillna(0,inplace = True)\n",
    "a19[\"Lesividad\"] = a19[\"Lesividad\"].astype(np.int64)\n",
    "a19['Lesividad'].unique()"
   ]
  },
  {
   "cell_type": "markdown",
   "metadata": {},
   "source": [
    "Variable Tipo de Vehiculo"
   ]
  },
  {
   "cell_type": "code",
   "execution_count": 22,
   "metadata": {},
   "outputs": [],
   "source": [
    "a19['Tipo_Vehiculo'].replace({'Ciclomotor':\"Ciclomotor\", 'Turismo':'Turismo', 'Todo terreno':'Turismo',\n",
    "        'Bicicleta':'Bicicleta','Motocicleta hasta 125cc':\"Motocicleta\", 'Motocicleta > 125cc':\"Motocicleta\",\n",
    "        'Autobús':'Camion','Furgoneta':'Furgoneta', 'Camión rígido':'Camion', 'Tractocamión':'Camion',\n",
    "       'Maquinaria de obras':'Camion', 'Vehículo articulado':'Camion',\n",
    "       'Cuadriciclo no ligero':\"Veh.3 ruedas\", 'Autobús articulado':'Camion',\n",
    "       'Otros vehículos con motor':'Varios', 'Autocaravana':'Furgoneta', 'Ciclo':\"Ciclomotor\",\n",
    "       'Cuadriciclo ligero':\"Veh.3 ruedas\", 'Semiremolque':'Camion', 'Microbús <= 17 plazas':'Furgoneta',\n",
    "       'Sin especificar':'No asignado', 'Remolque':'Varios', 'Tranvía':'Varios', 'Caravana':'Furgoneta',\n",
    "       'VMU eléctrico':'Varios', 'Otros vehículos sin motor':'Varios', 'Patinete':'Varios',\n",
    "       'Bicicleta EPAC (pedaleo asistido)':\"Bicicleta\", 'Autobus EMT':'Camion'},inplace =True)\n",
    "a19['Tipo_Vehiculo'].fillna('No asignado', inplace=True)                          "
   ]
  },
  {
   "cell_type": "code",
   "execution_count": 23,
   "metadata": {},
   "outputs": [
    {
     "data": {
      "text/plain": [
       "array(['Ciclomotor', 'Turismo', 'Bicicleta', 'Motocicleta', 'Camion',\n",
       "       'Furgoneta', 'No asignado', 'Veh.3 ruedas', 'Varios'], dtype=object)"
      ]
     },
     "execution_count": 23,
     "metadata": {},
     "output_type": "execute_result"
    }
   ],
   "source": [
    "a19['Tipo_Vehiculo'].unique()"
   ]
  },
  {
   "cell_type": "markdown",
   "metadata": {},
   "source": [
    "Variable Tipo Persona"
   ]
  },
  {
   "cell_type": "code",
   "execution_count": 24,
   "metadata": {},
   "outputs": [],
   "source": [
    "dftotal1['Tipo_Persona'].replace({\"CONDUCTOR\":\"Conductor\", \"VIAJERO\": \"Pasajero\", \"PEATON\":\"Peatón\", \"TESTIGO\": \"Testigo\"}, inplace = True)\n",
    "dftotal1['Tipo_Persona'].fillna('No asignado', inplace=True)  "
   ]
  },
  {
   "cell_type": "code",
   "execution_count": 25,
   "metadata": {},
   "outputs": [
    {
     "data": {
      "text/plain": [
       "array(['Conductor', 'Pasajero', 'Testigo', 'Peatón'], dtype=object)"
      ]
     },
     "execution_count": 25,
     "metadata": {},
     "output_type": "execute_result"
    }
   ],
   "source": [
    "dftotal1['Tipo_Persona'].unique()"
   ]
  },
  {
   "cell_type": "markdown",
   "metadata": {},
   "source": [
    "Variable 'Tipo_Accidente'"
   ]
  },
  {
   "cell_type": "code",
   "execution_count": 26,
   "metadata": {},
   "outputs": [
    {
     "data": {
      "text/plain": [
       "array(['Colisión doble', 'Colisión múltiple', 'Choque con objeto fijo',\n",
       "       'Caída motocicleta', 'Atropello', 'Vuelco', 'Caída ciclomotor',\n",
       "       'Caída viajero bus', 'Otras causas', 'Caída bicicleta',\n",
       "       'Caída vehículo 3 ruedas'], dtype=object)"
      ]
     },
     "execution_count": 26,
     "metadata": {},
     "output_type": "execute_result"
    }
   ],
   "source": [
    "dftotal1[\"Tipo_Accidente\"]=dftotal1[\"Tipo_Accidente\"].str.capitalize()\n",
    "dftotal1[\"Tipo_Accidente\"].unique()"
   ]
  },
  {
   "cell_type": "code",
   "execution_count": 27,
   "metadata": {
    "scrolled": true
   },
   "outputs": [],
   "source": [
    "a19['Tipo_Accidente'].replace({'Caída':'Caída ciclomotor', 'Colisión fronto-lateral': 'Colisión doble',\n",
    "                               'Atropello a persona':'Atropello','Choque contra obstáculo fijo':'Choque con objeto fijo',\n",
    "                               'Alcance':'Colisión doble', 'Vuelco':'Otras causas',\n",
    "                               'Atropello a animal':'Atropello', 'Otro':'Otras causas', 'Colisión lateral':'Colisión doble',\n",
    "                               'Colisión frontal':'Colisión doble', 'Colisión múltiple':'Colisión múltiple', \n",
    "                               'Solo salida de la vía':'Otras causas',\n",
    "                               'Despeñamiento':'Otras causas'},inplace=True)\n",
    "a19['Tipo_Accidente'].fillna('No asignado', inplace=True)                          "
   ]
  },
  {
   "cell_type": "markdown",
   "metadata": {},
   "source": [
    "Añadiremos al Data set de 2019, el dia de la semana en el que ocurrio el accidente. "
   ]
  },
  {
   "cell_type": "code",
   "execution_count": 28,
   "metadata": {},
   "outputs": [
    {
     "name": "stderr",
     "output_type": "stream",
     "text": [
      "C:\\Users\\Lenovo\\Anaconda3\\lib\\site-packages\\pandas\\core\\generic.py:6786: SettingWithCopyWarning: modifications to a property of a datetimelike object are not supported and are discarded. Change values on the original.\n",
      "  self._update_inplace(new_data)\n"
     ]
    }
   ],
   "source": [
    "a19['Fecha'] = pd.to_datetime(a19['Fecha'])\n",
    "Dia_Semana = a19['Fecha'].dt.dayofweek\n",
    "Dia_Semana.replace({0:'Lunes', 1: 'Martes',\n",
    "                              2:'Miercoles',3:'Jueves',\n",
    "                               4:'Viernes', 5:'Sabado',\n",
    "                               6:'Domingo'}, inplace = True) \n",
    "a19 = a19.assign(Dia_Semana = Dia_Semana.values)"
   ]
  },
  {
   "cell_type": "markdown",
   "metadata": {},
   "source": [
    "Se quita NaN, de Tipo Persona"
   ]
  },
  {
   "cell_type": "code",
   "execution_count": 29,
   "metadata": {},
   "outputs": [],
   "source": [
    "a19['Tipo_Persona'].fillna('No asignado',inplace=True)"
   ]
  },
  {
   "cell_type": "markdown",
   "metadata": {},
   "source": [
    "El DataSet de 2019, es bastante diferente en estructura con respecto a la definicion de los datos meteorologicos y de la carretera.\n",
    "- Para los datos meteorologicos:\n",
    "    - En las columnas: 'Granizando','Nevando' y 'Despejado'. Vamos a poner adaptar columnas de manera binaria y a adaptar con el nombre del Data Set de años anteriores \n",
    "    - Las columnas 'Nublado' y 'Se Desconoce' las vamos a eliminar porque en el otro DataSet no existen.\n",
    "    - Las columnas 'Lluvia intensa' y 'Lluvia débil' se van a unir a una con el nombre CPFA_Lluvia que es como aparece en el Data Set de años anteriores y se borraran ambas columnas que aparecen por separado\n",
    "    - Vamos a añadir las columnas:CPFA_Hielo,CPFA_Niebla con valor 0, porque aparecen en el DataSet de años anteriores.\n",
    "    \n",
    "- Para los datos del estado de la carretera, vamos a añadir las columnas que comienzan por CPSV y pondremos todos los datos a 0, porque no tenemos para el Data set de 2019, esta informacion y la añadiremos de esta forma."
   ]
  },
  {
   "cell_type": "code",
   "execution_count": 30,
   "metadata": {},
   "outputs": [
    {
     "data": {
      "text/html": [
       "<div>\n",
       "<style scoped>\n",
       "    .dataframe tbody tr th:only-of-type {\n",
       "        vertical-align: middle;\n",
       "    }\n",
       "\n",
       "    .dataframe tbody tr th {\n",
       "        vertical-align: top;\n",
       "    }\n",
       "\n",
       "    .dataframe thead th {\n",
       "        text-align: right;\n",
       "    }\n",
       "</style>\n",
       "<table border=\"1\" class=\"dataframe\">\n",
       "  <thead>\n",
       "    <tr style=\"text-align: right;\">\n",
       "      <th></th>\n",
       "      <th>CPFA_Seco</th>\n",
       "      <th>CPFA_Granizo</th>\n",
       "      <th>LLuvia intensa</th>\n",
       "      <th>Lluvia débil</th>\n",
       "      <th>CPFA_Nieve</th>\n",
       "      <th>Nublado</th>\n",
       "      <th>Se desconoce</th>\n",
       "    </tr>\n",
       "  </thead>\n",
       "  <tbody>\n",
       "    <tr>\n",
       "      <td>0</td>\n",
       "      <td>1</td>\n",
       "      <td>0</td>\n",
       "      <td>0</td>\n",
       "      <td>0</td>\n",
       "      <td>0</td>\n",
       "      <td>0</td>\n",
       "      <td>0</td>\n",
       "    </tr>\n",
       "    <tr>\n",
       "      <td>1</td>\n",
       "      <td>1</td>\n",
       "      <td>0</td>\n",
       "      <td>0</td>\n",
       "      <td>0</td>\n",
       "      <td>0</td>\n",
       "      <td>0</td>\n",
       "      <td>0</td>\n",
       "    </tr>\n",
       "    <tr>\n",
       "      <td>2</td>\n",
       "      <td>1</td>\n",
       "      <td>0</td>\n",
       "      <td>0</td>\n",
       "      <td>0</td>\n",
       "      <td>0</td>\n",
       "      <td>0</td>\n",
       "      <td>0</td>\n",
       "    </tr>\n",
       "    <tr>\n",
       "      <td>3</td>\n",
       "      <td>1</td>\n",
       "      <td>0</td>\n",
       "      <td>0</td>\n",
       "      <td>0</td>\n",
       "      <td>0</td>\n",
       "      <td>0</td>\n",
       "      <td>0</td>\n",
       "    </tr>\n",
       "    <tr>\n",
       "      <td>4</td>\n",
       "      <td>1</td>\n",
       "      <td>0</td>\n",
       "      <td>0</td>\n",
       "      <td>0</td>\n",
       "      <td>0</td>\n",
       "      <td>0</td>\n",
       "      <td>0</td>\n",
       "    </tr>\n",
       "    <tr>\n",
       "      <td>...</td>\n",
       "      <td>...</td>\n",
       "      <td>...</td>\n",
       "      <td>...</td>\n",
       "      <td>...</td>\n",
       "      <td>...</td>\n",
       "      <td>...</td>\n",
       "      <td>...</td>\n",
       "    </tr>\n",
       "    <tr>\n",
       "      <td>51801</td>\n",
       "      <td>1</td>\n",
       "      <td>0</td>\n",
       "      <td>0</td>\n",
       "      <td>0</td>\n",
       "      <td>0</td>\n",
       "      <td>0</td>\n",
       "      <td>0</td>\n",
       "    </tr>\n",
       "    <tr>\n",
       "      <td>51802</td>\n",
       "      <td>1</td>\n",
       "      <td>0</td>\n",
       "      <td>0</td>\n",
       "      <td>0</td>\n",
       "      <td>0</td>\n",
       "      <td>0</td>\n",
       "      <td>0</td>\n",
       "    </tr>\n",
       "    <tr>\n",
       "      <td>51803</td>\n",
       "      <td>1</td>\n",
       "      <td>0</td>\n",
       "      <td>0</td>\n",
       "      <td>0</td>\n",
       "      <td>0</td>\n",
       "      <td>0</td>\n",
       "      <td>0</td>\n",
       "    </tr>\n",
       "    <tr>\n",
       "      <td>51804</td>\n",
       "      <td>1</td>\n",
       "      <td>0</td>\n",
       "      <td>0</td>\n",
       "      <td>0</td>\n",
       "      <td>0</td>\n",
       "      <td>0</td>\n",
       "      <td>0</td>\n",
       "    </tr>\n",
       "    <tr>\n",
       "      <td>51805</td>\n",
       "      <td>1</td>\n",
       "      <td>0</td>\n",
       "      <td>0</td>\n",
       "      <td>0</td>\n",
       "      <td>0</td>\n",
       "      <td>0</td>\n",
       "      <td>0</td>\n",
       "    </tr>\n",
       "  </tbody>\n",
       "</table>\n",
       "<p>51806 rows × 7 columns</p>\n",
       "</div>"
      ],
      "text/plain": [
       "       CPFA_Seco  CPFA_Granizo  LLuvia intensa  Lluvia débil  CPFA_Nieve  \\\n",
       "0              1             0               0             0           0   \n",
       "1              1             0               0             0           0   \n",
       "2              1             0               0             0           0   \n",
       "3              1             0               0             0           0   \n",
       "4              1             0               0             0           0   \n",
       "...          ...           ...             ...           ...         ...   \n",
       "51801          1             0               0             0           0   \n",
       "51802          1             0               0             0           0   \n",
       "51803          1             0               0             0           0   \n",
       "51804          1             0               0             0           0   \n",
       "51805          1             0               0             0           0   \n",
       "\n",
       "       Nublado  Se desconoce  \n",
       "0            0             0  \n",
       "1            0             0  \n",
       "2            0             0  \n",
       "3            0             0  \n",
       "4            0             0  \n",
       "...        ...           ...  \n",
       "51801        0             0  \n",
       "51802        0             0  \n",
       "51803        0             0  \n",
       "51804        0             0  \n",
       "51805        0             0  \n",
       "\n",
       "[51806 rows x 7 columns]"
      ]
     },
     "execution_count": 30,
     "metadata": {},
     "output_type": "execute_result"
    }
   ],
   "source": [
    "a19_EstadoMeter_Carre= pd.get_dummies(a19[\"ESTADO METEREOLÓGICO\"])\n",
    "a19_EstadoMeter_Carre =a19_EstadoMeter_Carre.rename(columns = {'Granizando':'CPFA_Granizo','Nevando':'CPFA_Nieve',\n",
    "                                                   'Despejado':'CPFA_Seco'})\n",
    "a19_EstadoMeter_Carre"
   ]
  },
  {
   "cell_type": "code",
   "execution_count": 31,
   "metadata": {},
   "outputs": [],
   "source": [
    "a19_EstadoMeter_Carre['CPFA_Lluvia'] = a19_EstadoMeter_Carre['LLuvia intensa'] +  a19_EstadoMeter_Carre['Lluvia débil']"
   ]
  },
  {
   "cell_type": "code",
   "execution_count": 32,
   "metadata": {
    "scrolled": true
   },
   "outputs": [],
   "source": [
    "a19_EstadoMeter_Carre.drop(['Nublado', 'LLuvia intensa','Lluvia débil','Se desconoce'], axis = 1, inplace=True)"
   ]
  },
  {
   "cell_type": "code",
   "execution_count": 33,
   "metadata": {
    "scrolled": true
   },
   "outputs": [],
   "source": [
    "a19_EstadoMeter_Carre = a19_EstadoMeter_Carre.assign(CPFA_Granizo=a19_EstadoMeter_Carre['CPFA_Granizo'].values,\n",
    "                            CPFA_Hielo=0,\n",
    "                            CPFA_Lluvia=a19_EstadoMeter_Carre['CPFA_Lluvia'].values,\n",
    "                            CPFA_Niebla=0,\n",
    "                            CPFA_Seco=a19_EstadoMeter_Carre['CPFA_Seco'].values,\n",
    "                            CPFA_Nieve=a19_EstadoMeter_Carre['CPFA_Nieve'].values,\n",
    "                            CPSV_Mojada=0,\n",
    "                            CPSV_Aceite=0,\n",
    "                            CPSV_Barro=0,\n",
    "                            CPSV_Grava_Suelta=0,\n",
    "                            CPSV_Hielo=0,\n",
    "                            CPSV_Seca_Y_Limpia=0) "
   ]
  },
  {
   "cell_type": "code",
   "execution_count": 34,
   "metadata": {},
   "outputs": [],
   "source": [
    "a19_EstadoMeter_Carre = a19_EstadoMeter_Carre.astype(np.int64)"
   ]
  },
  {
   "cell_type": "markdown",
   "metadata": {},
   "source": [
    "Añadimos la columnas referidas a  'Estado Meteorologico' del DataSet "
   ]
  },
  {
   "cell_type": "code",
   "execution_count": 35,
   "metadata": {},
   "outputs": [],
   "source": [
    "a192 =  pd.concat([a19,a19_EstadoMeter_Carre], sort =False,axis = 1)"
   ]
  },
  {
   "cell_type": "code",
   "execution_count": 36,
   "metadata": {},
   "outputs": [],
   "source": [
    "a192 = a192.drop('ESTADO METEREOLÓGICO',axis = 1)"
   ]
  },
  {
   "cell_type": "markdown",
   "metadata": {},
   "source": [
    "La BBDD de 2019 es diferente a las anteriores, no solo por el formato, sino tambien por los datos se han tenido en cuenta en la BBDD. \n",
    "Según en descriptivo dado por el portal de datos abierto de la Comunidad de Madrid, en 2019 se da información de mas accidentes, porque se tienen en cuenta los que afectan al patrimonio como en años anteriores, pero que pueden tener o no heridos, cuando en periodos anteriores solo se tenian cuenta accidentes con asistencia sanitaria.\n",
    "El tener en cuenta en 2019 accidentes en los que solo hay ilesos, provoca que no podamos hacer un análisis homogeneo de toda la información. \n",
    "Es por ello, que eliminaremos del dataset, aquellos accidentes en los que solo hay ilesos"
   ]
  },
  {
   "cell_type": "code",
   "execution_count": 37,
   "metadata": {},
   "outputs": [],
   "source": [
    "a192 = a192[a192['Lesividad']>0]"
   ]
  },
  {
   "cell_type": "markdown",
   "metadata": {},
   "source": [
    "## Concatenar BBDD de 2010-2018 con 2019"
   ]
  },
  {
   "cell_type": "markdown",
   "metadata": {},
   "source": [
    "Union de la base de datos anterior de años anteriores a 2018 y posterior a 2018"
   ]
  },
  {
   "cell_type": "code",
   "execution_count": 38,
   "metadata": {
    "scrolled": true
   },
   "outputs": [
    {
     "data": {
      "text/plain": [
       "No_Parte                      object\n",
       "Fecha                 datetime64[ns]\n",
       "Hora                          object\n",
       "Calle                         object\n",
       "No                            object\n",
       "Distrito                      object\n",
       "Tipo_Accidente                object\n",
       "Tipo_Vehiculo                 object\n",
       "Tipo_Persona                  object\n",
       "Tramo_Edad                    object\n",
       "Sexo                           int64\n",
       "Lesividad                      int64\n",
       "Dia_Semana                    object\n",
       "CPFA_Seco                      int64\n",
       "CPFA_Granizo                   int64\n",
       "CPFA_Nieve                     int64\n",
       "CPFA_Lluvia                    int64\n",
       "CPFA_Hielo                     int64\n",
       "CPFA_Niebla                    int64\n",
       "CPSV_Mojada                    int64\n",
       "CPSV_Aceite                    int64\n",
       "CPSV_Barro                     int64\n",
       "CPSV_Grava_Suelta              int64\n",
       "CPSV_Hielo                     int64\n",
       "CPSV_Seca_Y_Limpia             int64\n",
       "dtype: object"
      ]
     },
     "execution_count": 38,
     "metadata": {},
     "output_type": "execute_result"
    }
   ],
   "source": [
    "DF = pd.merge(a192,dftotal1, how = 'outer')\n",
    "DF.dtypes"
   ]
  },
  {
   "cell_type": "markdown",
   "metadata": {},
   "source": [
    "Por ultimo, creamos la columna 'Dirección' que concatenará 'Calle' y 'No', de manera que obtendremos la dirección completa y unificamos los nombres de distrito\n"
   ]
  },
  {
   "cell_type": "code",
   "execution_count": 39,
   "metadata": {},
   "outputs": [],
   "source": [
    "DF[\"No\"].replace({\"-\": \"\",\"0\": \"\"},inplace=True)\n",
    "DF['Direccion'] =DF['Calle']+', '+DF['No']+', Madrid'"
   ]
  },
  {
   "cell_type": "code",
   "execution_count": 40,
   "metadata": {},
   "outputs": [],
   "source": [
    "DF.drop(['Calle','No'], axis =1, inplace = True)"
   ]
  },
  {
   "cell_type": "code",
   "execution_count": 41,
   "metadata": {},
   "outputs": [],
   "source": [
    "DF = DF[['No_Parte','Fecha','Hora','Direccion','Distrito','Tipo_Accidente','Tipo_Vehiculo','Tipo_Persona',\n",
    "    'Tramo_Edad','Sexo','Lesividad','Dia_Semana','CPFA_Seco','CPFA_Granizo','CPFA_Nieve','CPFA_Lluvia',\n",
    " 'CPFA_Hielo','CPFA_Niebla','CPSV_Mojada','CPSV_Aceite','CPSV_Barro','CPSV_Grava_Suelta','CPSV_Hielo','CPSV_Seca_Y_Limpia']]"
   ]
  },
  {
   "cell_type": "code",
   "execution_count": 42,
   "metadata": {},
   "outputs": [
    {
     "data": {
      "text/plain": [
       "array(['CHAMBERÍ', 'CARABANCHEL', 'CENTRO', 'SALAMANCA', 'CIUDAD LINEAL',\n",
       "       'CHAMARTÍN', 'VILLA DE VALLECAS', 'MORATALAZ', 'RETIRO', 'LATINA',\n",
       "       'HORTALEZA', 'SAN BLAS-CANILLEJAS', 'MONCLOA-ARAVACA', 'USERA',\n",
       "       'TETUÁN', 'FUENCARRAL-EL PARDO', 'VILLAVERDE',\n",
       "       'PUENTE DE VALLECAS', 'ARGANZUELA', 'VICÁLVARO', 'BARAJAS', nan,\n",
       "       'CHAMARTIN', 'CHAMBERI', 'TETUAN', 'SAN BLAS', 'VICALVARO'],\n",
       "      dtype=object)"
      ]
     },
     "execution_count": 42,
     "metadata": {},
     "output_type": "execute_result"
    }
   ],
   "source": [
    "DF['Distrito'].unique()"
   ]
  },
  {
   "cell_type": "code",
   "execution_count": 43,
   "metadata": {
    "scrolled": true
   },
   "outputs": [],
   "source": [
    "DF[\"Distrito\"]=DF[\"Distrito\"].str.capitalize()\n",
    "DF[\"Distrito\"].replace({'Chamberi':'Chamberí','Chamartin':'Chamartín','San blas - canillejas':'San Blas - Canillejas',\n",
    "                        'Fuencarral-el pardo': 'Fuencarral - El Pardo','Moncloa - aravaca':'Moncloa - Aravaca',\n",
    "                        'San blas':'San Blas - Canillejas','Villa de vallecas':'Villa de Vallecas', \n",
    "                      'Ciudad lineal':'Ciudad Lineal','Moncloa-aravaca':'Moncloa - Aravaca',\n",
    "                       'Puente de vallecas':'Puente de Vallecas','Tetuan':'Tetuán','Vicalvaro':'Vicálvaro',\n",
    "                       'Fuencarral - el pardo':'Fuencarral - El Pardo'},inplace=True)"
   ]
  },
  {
   "cell_type": "code",
   "execution_count": 44,
   "metadata": {},
   "outputs": [],
   "source": [
    "DF[\"Tramo_Edad\"].replace({'DE 30 A 34 ANOS':'DE 30 A 34 AÑOS','DE 6 A 9 AÑOS ':'DE 6 A 9 AÑOS','DE MAS DE 74 AÑOS ':'MAYOR DE 74 AÑOS'},inplace=True)"
   ]
  },
  {
   "cell_type": "markdown",
   "metadata": {},
   "source": [
    "Exportamos Database a CSV en la que estamos trabajando"
   ]
  },
  {
   "cell_type": "code",
   "execution_count": 45,
   "metadata": {},
   "outputs": [],
   "source": [
    "pathout = \"3. DF/\""
   ]
  },
  {
   "cell_type": "code",
   "execution_count": 46,
   "metadata": {},
   "outputs": [],
   "source": [
    "DF.to_csv(pathout+'DF.csv',index = False)"
   ]
  },
  {
   "cell_type": "markdown",
   "metadata": {},
   "source": [
    "A continuación, se van a separar la base de datos por victima y por accidente con el fin de utilizarlas en Tableau y poder hacer visualizaciones con ellas."
   ]
  },
  {
   "cell_type": "markdown",
   "metadata": {},
   "source": [
    "# Base de datos de accidente"
   ]
  },
  {
   "cell_type": "markdown",
   "metadata": {},
   "source": [
    "Se va a hacer otra BBDD que solo contenga las columnas que hacen referencia a las caracteristicas del accidente."
   ]
  },
  {
   "cell_type": "code",
   "execution_count": 47,
   "metadata": {
    "scrolled": true
   },
   "outputs": [
    {
     "data": {
      "text/html": [
       "<div>\n",
       "<style scoped>\n",
       "    .dataframe tbody tr th:only-of-type {\n",
       "        vertical-align: middle;\n",
       "    }\n",
       "\n",
       "    .dataframe tbody tr th {\n",
       "        vertical-align: top;\n",
       "    }\n",
       "\n",
       "    .dataframe thead th {\n",
       "        text-align: right;\n",
       "    }\n",
       "</style>\n",
       "<table border=\"1\" class=\"dataframe\">\n",
       "  <thead>\n",
       "    <tr style=\"text-align: right;\">\n",
       "      <th></th>\n",
       "      <th>No_Parte</th>\n",
       "      <th>Fecha</th>\n",
       "      <th>Hora</th>\n",
       "      <th>Direccion</th>\n",
       "      <th>Distrito</th>\n",
       "      <th>Tipo_Accidente</th>\n",
       "      <th>Dia_Semana</th>\n",
       "      <th>CPFA_Seco</th>\n",
       "      <th>CPFA_Granizo</th>\n",
       "      <th>CPFA_Nieve</th>\n",
       "      <th>CPFA_Lluvia</th>\n",
       "      <th>CPFA_Hielo</th>\n",
       "      <th>CPFA_Niebla</th>\n",
       "      <th>CPSV_Mojada</th>\n",
       "      <th>CPSV_Aceite</th>\n",
       "      <th>CPSV_Barro</th>\n",
       "      <th>CPSV_Grava_Suelta</th>\n",
       "      <th>CPSV_Hielo</th>\n",
       "      <th>CPSV_Seca_Y_Limpia</th>\n",
       "    </tr>\n",
       "  </thead>\n",
       "  <tbody>\n",
       "    <tr>\n",
       "      <td>0</td>\n",
       "      <td>2019S000020</td>\n",
       "      <td>2019-01-01</td>\n",
       "      <td>23:30</td>\n",
       "      <td>CALL. FUENCARRAL, 149, Madrid</td>\n",
       "      <td>Chamberí</td>\n",
       "      <td>Caída ciclomotor</td>\n",
       "      <td>Martes</td>\n",
       "      <td>1</td>\n",
       "      <td>0</td>\n",
       "      <td>0</td>\n",
       "      <td>0</td>\n",
       "      <td>0</td>\n",
       "      <td>0</td>\n",
       "      <td>0</td>\n",
       "      <td>0</td>\n",
       "      <td>0</td>\n",
       "      <td>0</td>\n",
       "      <td>0</td>\n",
       "      <td>0</td>\n",
       "    </tr>\n",
       "    <tr>\n",
       "      <td>1</td>\n",
       "      <td>2019S000017</td>\n",
       "      <td>2019-01-01</td>\n",
       "      <td>22:15</td>\n",
       "      <td>CALL. OCA / CALL. PINZON, , Madrid</td>\n",
       "      <td>Carabanchel</td>\n",
       "      <td>Colisión doble</td>\n",
       "      <td>Martes</td>\n",
       "      <td>1</td>\n",
       "      <td>0</td>\n",
       "      <td>0</td>\n",
       "      <td>0</td>\n",
       "      <td>0</td>\n",
       "      <td>0</td>\n",
       "      <td>0</td>\n",
       "      <td>0</td>\n",
       "      <td>0</td>\n",
       "      <td>0</td>\n",
       "      <td>0</td>\n",
       "      <td>0</td>\n",
       "    </tr>\n",
       "    <tr>\n",
       "      <td>2</td>\n",
       "      <td>2019S001812</td>\n",
       "      <td>2019-01-01</td>\n",
       "      <td>21:40</td>\n",
       "      <td>CALL. BAILEN / CUSTA. SAN VICENTE, , Madrid</td>\n",
       "      <td>Centro</td>\n",
       "      <td>Colisión doble</td>\n",
       "      <td>Martes</td>\n",
       "      <td>1</td>\n",
       "      <td>0</td>\n",
       "      <td>0</td>\n",
       "      <td>0</td>\n",
       "      <td>0</td>\n",
       "      <td>0</td>\n",
       "      <td>0</td>\n",
       "      <td>0</td>\n",
       "      <td>0</td>\n",
       "      <td>0</td>\n",
       "      <td>0</td>\n",
       "      <td>0</td>\n",
       "    </tr>\n",
       "    <tr>\n",
       "      <td>3</td>\n",
       "      <td>2019S001336</td>\n",
       "      <td>2019-01-01</td>\n",
       "      <td>20:25</td>\n",
       "      <td>CALL. MESONERO ROMANOS, 1, Madrid</td>\n",
       "      <td>Centro</td>\n",
       "      <td>Atropello</td>\n",
       "      <td>Martes</td>\n",
       "      <td>1</td>\n",
       "      <td>0</td>\n",
       "      <td>0</td>\n",
       "      <td>0</td>\n",
       "      <td>0</td>\n",
       "      <td>0</td>\n",
       "      <td>0</td>\n",
       "      <td>0</td>\n",
       "      <td>0</td>\n",
       "      <td>0</td>\n",
       "      <td>0</td>\n",
       "      <td>0</td>\n",
       "    </tr>\n",
       "    <tr>\n",
       "      <td>4</td>\n",
       "      <td>2019S000028</td>\n",
       "      <td>2019-01-01</td>\n",
       "      <td>19:15</td>\n",
       "      <td>PASEO RECOLETOS-PLAZA COLON, , Madrid</td>\n",
       "      <td>Salamanca</td>\n",
       "      <td>Colisión doble</td>\n",
       "      <td>Martes</td>\n",
       "      <td>1</td>\n",
       "      <td>0</td>\n",
       "      <td>0</td>\n",
       "      <td>0</td>\n",
       "      <td>0</td>\n",
       "      <td>0</td>\n",
       "      <td>0</td>\n",
       "      <td>0</td>\n",
       "      <td>0</td>\n",
       "      <td>0</td>\n",
       "      <td>0</td>\n",
       "      <td>0</td>\n",
       "    </tr>\n",
       "    <tr>\n",
       "      <td>...</td>\n",
       "      <td>...</td>\n",
       "      <td>...</td>\n",
       "      <td>...</td>\n",
       "      <td>...</td>\n",
       "      <td>...</td>\n",
       "      <td>...</td>\n",
       "      <td>...</td>\n",
       "      <td>...</td>\n",
       "      <td>...</td>\n",
       "      <td>...</td>\n",
       "      <td>...</td>\n",
       "      <td>...</td>\n",
       "      <td>...</td>\n",
       "      <td>...</td>\n",
       "      <td>...</td>\n",
       "      <td>...</td>\n",
       "      <td>...</td>\n",
       "      <td>...</td>\n",
       "      <td>...</td>\n",
       "    </tr>\n",
       "    <tr>\n",
       "      <td>266413</td>\n",
       "      <td>2019/66</td>\n",
       "      <td>2018-12-31</td>\n",
       "      <td>16:30</td>\n",
       "      <td>AVENIDA DE LOS ROSALES NUM, 32, Madrid</td>\n",
       "      <td>Usera</td>\n",
       "      <td>Colisión doble</td>\n",
       "      <td>Lunes</td>\n",
       "      <td>1</td>\n",
       "      <td>0</td>\n",
       "      <td>0</td>\n",
       "      <td>0</td>\n",
       "      <td>0</td>\n",
       "      <td>0</td>\n",
       "      <td>0</td>\n",
       "      <td>0</td>\n",
       "      <td>0</td>\n",
       "      <td>0</td>\n",
       "      <td>0</td>\n",
       "      <td>1</td>\n",
       "    </tr>\n",
       "    <tr>\n",
       "      <td>266416</td>\n",
       "      <td>2018/16693</td>\n",
       "      <td>2018-12-31</td>\n",
       "      <td>19:30</td>\n",
       "      <td>CARRETERA DE ACCESO A LA ESTACION DE O'DONNELL...</td>\n",
       "      <td>San Blas - Canillejas</td>\n",
       "      <td>Colisión doble</td>\n",
       "      <td>Lunes</td>\n",
       "      <td>1</td>\n",
       "      <td>0</td>\n",
       "      <td>0</td>\n",
       "      <td>0</td>\n",
       "      <td>0</td>\n",
       "      <td>0</td>\n",
       "      <td>0</td>\n",
       "      <td>0</td>\n",
       "      <td>0</td>\n",
       "      <td>0</td>\n",
       "      <td>0</td>\n",
       "      <td>1</td>\n",
       "    </tr>\n",
       "    <tr>\n",
       "      <td>266418</td>\n",
       "      <td>2019/32</td>\n",
       "      <td>2018-12-31</td>\n",
       "      <td>21:30</td>\n",
       "      <td>CALLE DE VILLANUEVA - PASEO DE RECOLETOS, , Ma...</td>\n",
       "      <td>Centro</td>\n",
       "      <td>Colisión doble</td>\n",
       "      <td>Lunes</td>\n",
       "      <td>1</td>\n",
       "      <td>0</td>\n",
       "      <td>0</td>\n",
       "      <td>0</td>\n",
       "      <td>0</td>\n",
       "      <td>0</td>\n",
       "      <td>0</td>\n",
       "      <td>0</td>\n",
       "      <td>0</td>\n",
       "      <td>0</td>\n",
       "      <td>0</td>\n",
       "      <td>1</td>\n",
       "    </tr>\n",
       "    <tr>\n",
       "      <td>266422</td>\n",
       "      <td>2019/18</td>\n",
       "      <td>2018-12-31</td>\n",
       "      <td>21:30</td>\n",
       "      <td>CALLE DE VELAZQUEZ - CALLE DE VILLANUEVA, , Ma...</td>\n",
       "      <td>Salamanca</td>\n",
       "      <td>Colisión doble</td>\n",
       "      <td>Lunes</td>\n",
       "      <td>1</td>\n",
       "      <td>0</td>\n",
       "      <td>0</td>\n",
       "      <td>0</td>\n",
       "      <td>0</td>\n",
       "      <td>0</td>\n",
       "      <td>0</td>\n",
       "      <td>0</td>\n",
       "      <td>0</td>\n",
       "      <td>0</td>\n",
       "      <td>0</td>\n",
       "      <td>1</td>\n",
       "    </tr>\n",
       "    <tr>\n",
       "      <td>266426</td>\n",
       "      <td>2019/53</td>\n",
       "      <td>2018-12-31</td>\n",
       "      <td>23:30</td>\n",
       "      <td>CALLE DE JOAQUIN FERNANDEZ LEIVA - CALLE DE SI...</td>\n",
       "      <td>Hortaleza</td>\n",
       "      <td>Otras causas</td>\n",
       "      <td>Lunes</td>\n",
       "      <td>1</td>\n",
       "      <td>0</td>\n",
       "      <td>0</td>\n",
       "      <td>0</td>\n",
       "      <td>0</td>\n",
       "      <td>0</td>\n",
       "      <td>0</td>\n",
       "      <td>0</td>\n",
       "      <td>0</td>\n",
       "      <td>0</td>\n",
       "      <td>0</td>\n",
       "      <td>1</td>\n",
       "    </tr>\n",
       "  </tbody>\n",
       "</table>\n",
       "<p>97513 rows × 19 columns</p>\n",
       "</div>"
      ],
      "text/plain": [
       "           No_Parte      Fecha   Hora  \\\n",
       "0       2019S000020 2019-01-01  23:30   \n",
       "1       2019S000017 2019-01-01  22:15   \n",
       "2       2019S001812 2019-01-01  21:40   \n",
       "3       2019S001336 2019-01-01  20:25   \n",
       "4       2019S000028 2019-01-01  19:15   \n",
       "...             ...        ...    ...   \n",
       "266413      2019/66 2018-12-31  16:30   \n",
       "266416   2018/16693 2018-12-31  19:30   \n",
       "266418      2019/32 2018-12-31  21:30   \n",
       "266422      2019/18 2018-12-31  21:30   \n",
       "266426      2019/53 2018-12-31  23:30   \n",
       "\n",
       "                                                Direccion  \\\n",
       "0                           CALL. FUENCARRAL, 149, Madrid   \n",
       "1                      CALL. OCA / CALL. PINZON, , Madrid   \n",
       "2             CALL. BAILEN / CUSTA. SAN VICENTE, , Madrid   \n",
       "3                       CALL. MESONERO ROMANOS, 1, Madrid   \n",
       "4                   PASEO RECOLETOS-PLAZA COLON, , Madrid   \n",
       "...                                                   ...   \n",
       "266413             AVENIDA DE LOS ROSALES NUM, 32, Madrid   \n",
       "266416  CARRETERA DE ACCESO A LA ESTACION DE O'DONNELL...   \n",
       "266418  CALLE DE VILLANUEVA - PASEO DE RECOLETOS, , Ma...   \n",
       "266422  CALLE DE VELAZQUEZ - CALLE DE VILLANUEVA, , Ma...   \n",
       "266426  CALLE DE JOAQUIN FERNANDEZ LEIVA - CALLE DE SI...   \n",
       "\n",
       "                     Distrito    Tipo_Accidente Dia_Semana  CPFA_Seco  \\\n",
       "0                    Chamberí  Caída ciclomotor     Martes          1   \n",
       "1                 Carabanchel    Colisión doble     Martes          1   \n",
       "2                      Centro    Colisión doble     Martes          1   \n",
       "3                      Centro         Atropello     Martes          1   \n",
       "4                   Salamanca    Colisión doble     Martes          1   \n",
       "...                       ...               ...        ...        ...   \n",
       "266413                  Usera    Colisión doble      Lunes          1   \n",
       "266416  San Blas - Canillejas    Colisión doble      Lunes          1   \n",
       "266418                 Centro    Colisión doble      Lunes          1   \n",
       "266422              Salamanca    Colisión doble      Lunes          1   \n",
       "266426              Hortaleza      Otras causas      Lunes          1   \n",
       "\n",
       "        CPFA_Granizo  CPFA_Nieve  CPFA_Lluvia  CPFA_Hielo  CPFA_Niebla  \\\n",
       "0                  0           0            0           0            0   \n",
       "1                  0           0            0           0            0   \n",
       "2                  0           0            0           0            0   \n",
       "3                  0           0            0           0            0   \n",
       "4                  0           0            0           0            0   \n",
       "...              ...         ...          ...         ...          ...   \n",
       "266413             0           0            0           0            0   \n",
       "266416             0           0            0           0            0   \n",
       "266418             0           0            0           0            0   \n",
       "266422             0           0            0           0            0   \n",
       "266426             0           0            0           0            0   \n",
       "\n",
       "        CPSV_Mojada  CPSV_Aceite  CPSV_Barro  CPSV_Grava_Suelta  CPSV_Hielo  \\\n",
       "0                 0            0           0                  0           0   \n",
       "1                 0            0           0                  0           0   \n",
       "2                 0            0           0                  0           0   \n",
       "3                 0            0           0                  0           0   \n",
       "4                 0            0           0                  0           0   \n",
       "...             ...          ...         ...                ...         ...   \n",
       "266413            0            0           0                  0           0   \n",
       "266416            0            0           0                  0           0   \n",
       "266418            0            0           0                  0           0   \n",
       "266422            0            0           0                  0           0   \n",
       "266426            0            0           0                  0           0   \n",
       "\n",
       "        CPSV_Seca_Y_Limpia  \n",
       "0                        0  \n",
       "1                        0  \n",
       "2                        0  \n",
       "3                        0  \n",
       "4                        0  \n",
       "...                    ...  \n",
       "266413                   1  \n",
       "266416                   1  \n",
       "266418                   1  \n",
       "266422                   1  \n",
       "266426                   1  \n",
       "\n",
       "[97513 rows x 19 columns]"
      ]
     },
     "execution_count": 47,
     "metadata": {},
     "output_type": "execute_result"
    }
   ],
   "source": [
    "DF_Accidente = DF.drop(['Sexo','Tipo_Vehiculo', 'Tipo_Persona','Tramo_Edad','Sexo','Lesividad'],axis=1)\n",
    "DF_Accidente = DF_Accidente.drop_duplicates('No_Parte')\n",
    "DF_Accidente"
   ]
  },
  {
   "cell_type": "code",
   "execution_count": 48,
   "metadata": {},
   "outputs": [],
   "source": [
    "DF_Accidente.to_csv(pathout+'DF_Accidente.csv',index = False)"
   ]
  },
  {
   "cell_type": "markdown",
   "metadata": {},
   "source": [
    "# Base de datos por victima"
   ]
  },
  {
   "cell_type": "markdown",
   "metadata": {},
   "source": [
    "Se va a hacer un DataSet la info que se da por victima."
   ]
  },
  {
   "cell_type": "code",
   "execution_count": 49,
   "metadata": {},
   "outputs": [],
   "source": [
    "DF_Victima=DF.drop(['Fecha','Hora', 'Direccion','Distrito','Tipo_Accidente','Dia_Semana','CPFA_Seco',\n",
    "                   'CPFA_Granizo','CPFA_Nieve','CPFA_Lluvia','CPFA_Hielo','CPFA_Niebla',\n",
    "                  'CPSV_Mojada','CPSV_Aceite','CPSV_Barro','CPSV_Grava_Suelta','CPSV_Hielo','CPSV_Seca_Y_Limpia'],axis=1)\n"
   ]
  },
  {
   "cell_type": "code",
   "execution_count": 50,
   "metadata": {},
   "outputs": [
    {
     "data": {
      "text/html": [
       "<div>\n",
       "<style scoped>\n",
       "    .dataframe tbody tr th:only-of-type {\n",
       "        vertical-align: middle;\n",
       "    }\n",
       "\n",
       "    .dataframe tbody tr th {\n",
       "        vertical-align: top;\n",
       "    }\n",
       "\n",
       "    .dataframe thead th {\n",
       "        text-align: right;\n",
       "    }\n",
       "</style>\n",
       "<table border=\"1\" class=\"dataframe\">\n",
       "  <thead>\n",
       "    <tr style=\"text-align: right;\">\n",
       "      <th></th>\n",
       "      <th>No_Parte</th>\n",
       "      <th>Tipo_Vehiculo</th>\n",
       "      <th>Tipo_Persona</th>\n",
       "      <th>Tramo_Edad</th>\n",
       "      <th>Sexo</th>\n",
       "      <th>Lesividad</th>\n",
       "    </tr>\n",
       "  </thead>\n",
       "  <tbody>\n",
       "    <tr>\n",
       "      <td>0</td>\n",
       "      <td>2019S000020</td>\n",
       "      <td>Ciclomotor</td>\n",
       "      <td>Conductor</td>\n",
       "      <td>DE 25 A 29 AÑOS</td>\n",
       "      <td>0</td>\n",
       "      <td>1</td>\n",
       "    </tr>\n",
       "    <tr>\n",
       "      <td>1</td>\n",
       "      <td>2019S000017</td>\n",
       "      <td>Ciclomotor</td>\n",
       "      <td>Conductor</td>\n",
       "      <td>DE 35 A 39 AÑOS</td>\n",
       "      <td>0</td>\n",
       "      <td>2</td>\n",
       "    </tr>\n",
       "    <tr>\n",
       "      <td>2</td>\n",
       "      <td>2019S001812</td>\n",
       "      <td>Turismo</td>\n",
       "      <td>Conductor</td>\n",
       "      <td>DE 30 A 34 AÑOS</td>\n",
       "      <td>1</td>\n",
       "      <td>1</td>\n",
       "    </tr>\n",
       "    <tr>\n",
       "      <td>3</td>\n",
       "      <td>2019S001336</td>\n",
       "      <td>Turismo</td>\n",
       "      <td>Peatón</td>\n",
       "      <td>DE 55 A 59 AÑOS</td>\n",
       "      <td>0</td>\n",
       "      <td>1</td>\n",
       "    </tr>\n",
       "    <tr>\n",
       "      <td>4</td>\n",
       "      <td>2019S000028</td>\n",
       "      <td>Turismo</td>\n",
       "      <td>Conductor</td>\n",
       "      <td>DE 50 A 54 AÑOS</td>\n",
       "      <td>0</td>\n",
       "      <td>1</td>\n",
       "    </tr>\n",
       "    <tr>\n",
       "      <td>...</td>\n",
       "      <td>...</td>\n",
       "      <td>...</td>\n",
       "      <td>...</td>\n",
       "      <td>...</td>\n",
       "      <td>...</td>\n",
       "      <td>...</td>\n",
       "    </tr>\n",
       "    <tr>\n",
       "      <td>266424</td>\n",
       "      <td>2019/18</td>\n",
       "      <td>Turismo</td>\n",
       "      <td>Pasajero</td>\n",
       "      <td>DE 30 A 34 AÑOS</td>\n",
       "      <td>0</td>\n",
       "      <td>0</td>\n",
       "    </tr>\n",
       "    <tr>\n",
       "      <td>266425</td>\n",
       "      <td>2019/18</td>\n",
       "      <td>Auto-taxi</td>\n",
       "      <td>Conductor</td>\n",
       "      <td>DE 40 A 44 AÑOS</td>\n",
       "      <td>0</td>\n",
       "      <td>0</td>\n",
       "    </tr>\n",
       "    <tr>\n",
       "      <td>266426</td>\n",
       "      <td>2019/53</td>\n",
       "      <td>Turismo</td>\n",
       "      <td>Conductor</td>\n",
       "      <td>DE 21 A 24 AÑOS</td>\n",
       "      <td>1</td>\n",
       "      <td>0</td>\n",
       "    </tr>\n",
       "    <tr>\n",
       "      <td>266427</td>\n",
       "      <td>2019/53</td>\n",
       "      <td>Turismo</td>\n",
       "      <td>Conductor</td>\n",
       "      <td>DE 50 A 54 AÑOS</td>\n",
       "      <td>0</td>\n",
       "      <td>1</td>\n",
       "    </tr>\n",
       "    <tr>\n",
       "      <td>266428</td>\n",
       "      <td>2019/53</td>\n",
       "      <td>Turismo</td>\n",
       "      <td>Conductor</td>\n",
       "      <td>DESCONOCIDA</td>\n",
       "      <td>2</td>\n",
       "      <td>4</td>\n",
       "    </tr>\n",
       "  </tbody>\n",
       "</table>\n",
       "<p>266429 rows × 6 columns</p>\n",
       "</div>"
      ],
      "text/plain": [
       "           No_Parte Tipo_Vehiculo Tipo_Persona       Tramo_Edad  Sexo  \\\n",
       "0       2019S000020    Ciclomotor    Conductor  DE 25 A 29 AÑOS     0   \n",
       "1       2019S000017    Ciclomotor    Conductor  DE 35 A 39 AÑOS     0   \n",
       "2       2019S001812       Turismo    Conductor  DE 30 A 34 AÑOS     1   \n",
       "3       2019S001336       Turismo       Peatón  DE 55 A 59 AÑOS     0   \n",
       "4       2019S000028       Turismo    Conductor  DE 50 A 54 AÑOS     0   \n",
       "...             ...           ...          ...              ...   ...   \n",
       "266424      2019/18       Turismo     Pasajero  DE 30 A 34 AÑOS     0   \n",
       "266425      2019/18     Auto-taxi    Conductor  DE 40 A 44 AÑOS     0   \n",
       "266426      2019/53       Turismo    Conductor  DE 21 A 24 AÑOS     1   \n",
       "266427      2019/53       Turismo    Conductor  DE 50 A 54 AÑOS     0   \n",
       "266428      2019/53       Turismo    Conductor      DESCONOCIDA     2   \n",
       "\n",
       "        Lesividad  \n",
       "0               1  \n",
       "1               2  \n",
       "2               1  \n",
       "3               1  \n",
       "4               1  \n",
       "...           ...  \n",
       "266424          0  \n",
       "266425          0  \n",
       "266426          0  \n",
       "266427          1  \n",
       "266428          4  \n",
       "\n",
       "[266429 rows x 6 columns]"
      ]
     },
     "execution_count": 50,
     "metadata": {},
     "output_type": "execute_result"
    }
   ],
   "source": [
    "DF_Victima"
   ]
  },
  {
   "cell_type": "code",
   "execution_count": 51,
   "metadata": {},
   "outputs": [
    {
     "data": {
      "text/html": [
       "<div>\n",
       "<style scoped>\n",
       "    .dataframe tbody tr th:only-of-type {\n",
       "        vertical-align: middle;\n",
       "    }\n",
       "\n",
       "    .dataframe tbody tr th {\n",
       "        vertical-align: top;\n",
       "    }\n",
       "\n",
       "    .dataframe thead th {\n",
       "        text-align: right;\n",
       "    }\n",
       "</style>\n",
       "<table border=\"1\" class=\"dataframe\">\n",
       "  <thead>\n",
       "    <tr style=\"text-align: right;\">\n",
       "      <th></th>\n",
       "      <th>Tipo_Vehiculo</th>\n",
       "      <th>Tipo_Persona</th>\n",
       "      <th>Tramo_Edad</th>\n",
       "      <th>Sexo</th>\n",
       "      <th>Lesividad</th>\n",
       "    </tr>\n",
       "    <tr>\n",
       "      <th>No_Parte</th>\n",
       "      <th></th>\n",
       "      <th></th>\n",
       "      <th></th>\n",
       "      <th></th>\n",
       "      <th></th>\n",
       "    </tr>\n",
       "  </thead>\n",
       "  <tbody>\n",
       "    <tr>\n",
       "      <td>2019S000020</td>\n",
       "      <td>Ciclomotor</td>\n",
       "      <td>Conductor</td>\n",
       "      <td>DE 25 A 29 AÑOS</td>\n",
       "      <td>0</td>\n",
       "      <td>1</td>\n",
       "    </tr>\n",
       "    <tr>\n",
       "      <td>2019S000017</td>\n",
       "      <td>Ciclomotor</td>\n",
       "      <td>Conductor</td>\n",
       "      <td>DE 35 A 39 AÑOS</td>\n",
       "      <td>0</td>\n",
       "      <td>2</td>\n",
       "    </tr>\n",
       "    <tr>\n",
       "      <td>2019S001812</td>\n",
       "      <td>Turismo</td>\n",
       "      <td>Conductor</td>\n",
       "      <td>DE 30 A 34 AÑOS</td>\n",
       "      <td>1</td>\n",
       "      <td>1</td>\n",
       "    </tr>\n",
       "    <tr>\n",
       "      <td>2019S001336</td>\n",
       "      <td>Turismo</td>\n",
       "      <td>Peatón</td>\n",
       "      <td>DE 55 A 59 AÑOS</td>\n",
       "      <td>0</td>\n",
       "      <td>1</td>\n",
       "    </tr>\n",
       "    <tr>\n",
       "      <td>2019S000028</td>\n",
       "      <td>Turismo</td>\n",
       "      <td>Conductor</td>\n",
       "      <td>DE 50 A 54 AÑOS</td>\n",
       "      <td>0</td>\n",
       "      <td>1</td>\n",
       "    </tr>\n",
       "    <tr>\n",
       "      <td>...</td>\n",
       "      <td>...</td>\n",
       "      <td>...</td>\n",
       "      <td>...</td>\n",
       "      <td>...</td>\n",
       "      <td>...</td>\n",
       "    </tr>\n",
       "    <tr>\n",
       "      <td>2019/18</td>\n",
       "      <td>Turismo</td>\n",
       "      <td>Pasajero</td>\n",
       "      <td>DE 30 A 34 AÑOS</td>\n",
       "      <td>0</td>\n",
       "      <td>0</td>\n",
       "    </tr>\n",
       "    <tr>\n",
       "      <td>2019/18</td>\n",
       "      <td>Auto-taxi</td>\n",
       "      <td>Conductor</td>\n",
       "      <td>DE 40 A 44 AÑOS</td>\n",
       "      <td>0</td>\n",
       "      <td>0</td>\n",
       "    </tr>\n",
       "    <tr>\n",
       "      <td>2019/53</td>\n",
       "      <td>Turismo</td>\n",
       "      <td>Conductor</td>\n",
       "      <td>DE 21 A 24 AÑOS</td>\n",
       "      <td>1</td>\n",
       "      <td>0</td>\n",
       "    </tr>\n",
       "    <tr>\n",
       "      <td>2019/53</td>\n",
       "      <td>Turismo</td>\n",
       "      <td>Conductor</td>\n",
       "      <td>DE 50 A 54 AÑOS</td>\n",
       "      <td>0</td>\n",
       "      <td>1</td>\n",
       "    </tr>\n",
       "    <tr>\n",
       "      <td>2019/53</td>\n",
       "      <td>Turismo</td>\n",
       "      <td>Conductor</td>\n",
       "      <td>DESCONOCIDA</td>\n",
       "      <td>2</td>\n",
       "      <td>4</td>\n",
       "    </tr>\n",
       "  </tbody>\n",
       "</table>\n",
       "<p>266429 rows × 5 columns</p>\n",
       "</div>"
      ],
      "text/plain": [
       "            Tipo_Vehiculo Tipo_Persona       Tramo_Edad  Sexo  Lesividad\n",
       "No_Parte                                                                \n",
       "2019S000020    Ciclomotor    Conductor  DE 25 A 29 AÑOS     0          1\n",
       "2019S000017    Ciclomotor    Conductor  DE 35 A 39 AÑOS     0          2\n",
       "2019S001812       Turismo    Conductor  DE 30 A 34 AÑOS     1          1\n",
       "2019S001336       Turismo       Peatón  DE 55 A 59 AÑOS     0          1\n",
       "2019S000028       Turismo    Conductor  DE 50 A 54 AÑOS     0          1\n",
       "...                   ...          ...              ...   ...        ...\n",
       "2019/18           Turismo     Pasajero  DE 30 A 34 AÑOS     0          0\n",
       "2019/18         Auto-taxi    Conductor  DE 40 A 44 AÑOS     0          0\n",
       "2019/53           Turismo    Conductor  DE 21 A 24 AÑOS     1          0\n",
       "2019/53           Turismo    Conductor  DE 50 A 54 AÑOS     0          1\n",
       "2019/53           Turismo    Conductor      DESCONOCIDA     2          4\n",
       "\n",
       "[266429 rows x 5 columns]"
      ]
     },
     "execution_count": 51,
     "metadata": {},
     "output_type": "execute_result"
    }
   ],
   "source": [
    "DF_Victima.set_index('No_Parte', inplace=True)\n",
    "DF_Victima"
   ]
  },
  {
   "cell_type": "code",
   "execution_count": 52,
   "metadata": {},
   "outputs": [
    {
     "data": {
      "text/html": [
       "<div>\n",
       "<style scoped>\n",
       "    .dataframe tbody tr th:only-of-type {\n",
       "        vertical-align: middle;\n",
       "    }\n",
       "\n",
       "    .dataframe tbody tr th {\n",
       "        vertical-align: top;\n",
       "    }\n",
       "\n",
       "    .dataframe thead th {\n",
       "        text-align: right;\n",
       "    }\n",
       "</style>\n",
       "<table border=\"1\" class=\"dataframe\">\n",
       "  <thead>\n",
       "    <tr style=\"text-align: right;\">\n",
       "      <th></th>\n",
       "      <th>No_Parte</th>\n",
       "      <th>Tipo_Vehiculo</th>\n",
       "      <th>Tipo_Persona</th>\n",
       "      <th>Tramo_Edad</th>\n",
       "      <th>Sexo</th>\n",
       "      <th>Lesividad</th>\n",
       "    </tr>\n",
       "  </thead>\n",
       "  <tbody>\n",
       "    <tr>\n",
       "      <td>0</td>\n",
       "      <td>2019S000020</td>\n",
       "      <td>Ciclomotor</td>\n",
       "      <td>Conductor</td>\n",
       "      <td>DE 25 A 29 AÑOS</td>\n",
       "      <td>0</td>\n",
       "      <td>1</td>\n",
       "    </tr>\n",
       "    <tr>\n",
       "      <td>1</td>\n",
       "      <td>2019S000017</td>\n",
       "      <td>Ciclomotor</td>\n",
       "      <td>Conductor</td>\n",
       "      <td>DE 35 A 39 AÑOS</td>\n",
       "      <td>0</td>\n",
       "      <td>2</td>\n",
       "    </tr>\n",
       "    <tr>\n",
       "      <td>2</td>\n",
       "      <td>2019S001812</td>\n",
       "      <td>Turismo</td>\n",
       "      <td>Conductor</td>\n",
       "      <td>DE 30 A 34 AÑOS</td>\n",
       "      <td>1</td>\n",
       "      <td>1</td>\n",
       "    </tr>\n",
       "    <tr>\n",
       "      <td>3</td>\n",
       "      <td>2019S001336</td>\n",
       "      <td>Turismo</td>\n",
       "      <td>Peatón</td>\n",
       "      <td>DE 55 A 59 AÑOS</td>\n",
       "      <td>0</td>\n",
       "      <td>1</td>\n",
       "    </tr>\n",
       "    <tr>\n",
       "      <td>4</td>\n",
       "      <td>2019S000028</td>\n",
       "      <td>Turismo</td>\n",
       "      <td>Conductor</td>\n",
       "      <td>DE 50 A 54 AÑOS</td>\n",
       "      <td>0</td>\n",
       "      <td>1</td>\n",
       "    </tr>\n",
       "    <tr>\n",
       "      <td>...</td>\n",
       "      <td>...</td>\n",
       "      <td>...</td>\n",
       "      <td>...</td>\n",
       "      <td>...</td>\n",
       "      <td>...</td>\n",
       "      <td>...</td>\n",
       "    </tr>\n",
       "    <tr>\n",
       "      <td>266424</td>\n",
       "      <td>2019/18</td>\n",
       "      <td>Turismo</td>\n",
       "      <td>Pasajero</td>\n",
       "      <td>DE 30 A 34 AÑOS</td>\n",
       "      <td>0</td>\n",
       "      <td>0</td>\n",
       "    </tr>\n",
       "    <tr>\n",
       "      <td>266425</td>\n",
       "      <td>2019/18</td>\n",
       "      <td>Auto-taxi</td>\n",
       "      <td>Conductor</td>\n",
       "      <td>DE 40 A 44 AÑOS</td>\n",
       "      <td>0</td>\n",
       "      <td>0</td>\n",
       "    </tr>\n",
       "    <tr>\n",
       "      <td>266426</td>\n",
       "      <td>2019/53</td>\n",
       "      <td>Turismo</td>\n",
       "      <td>Conductor</td>\n",
       "      <td>DE 21 A 24 AÑOS</td>\n",
       "      <td>1</td>\n",
       "      <td>0</td>\n",
       "    </tr>\n",
       "    <tr>\n",
       "      <td>266427</td>\n",
       "      <td>2019/53</td>\n",
       "      <td>Turismo</td>\n",
       "      <td>Conductor</td>\n",
       "      <td>DE 50 A 54 AÑOS</td>\n",
       "      <td>0</td>\n",
       "      <td>1</td>\n",
       "    </tr>\n",
       "    <tr>\n",
       "      <td>266428</td>\n",
       "      <td>2019/53</td>\n",
       "      <td>Turismo</td>\n",
       "      <td>Conductor</td>\n",
       "      <td>DESCONOCIDA</td>\n",
       "      <td>2</td>\n",
       "      <td>4</td>\n",
       "    </tr>\n",
       "  </tbody>\n",
       "</table>\n",
       "<p>266429 rows × 6 columns</p>\n",
       "</div>"
      ],
      "text/plain": [
       "           No_Parte Tipo_Vehiculo Tipo_Persona       Tramo_Edad  Sexo  \\\n",
       "0       2019S000020    Ciclomotor    Conductor  DE 25 A 29 AÑOS     0   \n",
       "1       2019S000017    Ciclomotor    Conductor  DE 35 A 39 AÑOS     0   \n",
       "2       2019S001812       Turismo    Conductor  DE 30 A 34 AÑOS     1   \n",
       "3       2019S001336       Turismo       Peatón  DE 55 A 59 AÑOS     0   \n",
       "4       2019S000028       Turismo    Conductor  DE 50 A 54 AÑOS     0   \n",
       "...             ...           ...          ...              ...   ...   \n",
       "266424      2019/18       Turismo     Pasajero  DE 30 A 34 AÑOS     0   \n",
       "266425      2019/18     Auto-taxi    Conductor  DE 40 A 44 AÑOS     0   \n",
       "266426      2019/53       Turismo    Conductor  DE 21 A 24 AÑOS     1   \n",
       "266427      2019/53       Turismo    Conductor  DE 50 A 54 AÑOS     0   \n",
       "266428      2019/53       Turismo    Conductor      DESCONOCIDA     2   \n",
       "\n",
       "        Lesividad  \n",
       "0               1  \n",
       "1               2  \n",
       "2               1  \n",
       "3               1  \n",
       "4               1  \n",
       "...           ...  \n",
       "266424          0  \n",
       "266425          0  \n",
       "266426          0  \n",
       "266427          1  \n",
       "266428          4  \n",
       "\n",
       "[266429 rows x 6 columns]"
      ]
     },
     "execution_count": 52,
     "metadata": {},
     "output_type": "execute_result"
    }
   ],
   "source": [
    "DF_Victima.reset_index(drop=False)"
   ]
  },
  {
   "cell_type": "code",
   "execution_count": 53,
   "metadata": {},
   "outputs": [],
   "source": [
    "DF_Victima.to_csv(pathout+'DF_Victima.csv')"
   ]
  }
 ],
 "metadata": {
  "kernelspec": {
   "display_name": "Python 3",
   "language": "python",
   "name": "python3"
  },
  "language_info": {
   "codemirror_mode": {
    "name": "ipython",
    "version": 3
   },
   "file_extension": ".py",
   "mimetype": "text/x-python",
   "name": "python",
   "nbconvert_exporter": "python",
   "pygments_lexer": "ipython3",
   "version": "3.7.4"
  }
 },
 "nbformat": 4,
 "nbformat_minor": 2
}
